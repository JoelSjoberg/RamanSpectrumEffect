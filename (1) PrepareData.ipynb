{
 "cells": [
  {
   "cell_type": "code",
   "execution_count": null,
   "id": "c9c77405-2eed-4bba-9a05-68b6913e0ec6",
   "metadata": {
    "scrolled": true
   },
   "outputs": [],
   "source": [
    "import matplotlib.colors\n",
    "from Scripts.essentials import *"
   ]
  },
  {
   "cell_type": "markdown",
   "id": "8eba1afc-8f05-4eca-a245-6feb79e35283",
   "metadata": {},
   "source": [
    "## Load the glioma samples"
   ]
  },
  {
   "cell_type": "code",
   "execution_count": null,
   "id": "a59b2919-b028-4ad2-b833-e1c9327c17f4",
   "metadata": {},
   "outputs": [],
   "source": [
    "data_path = \"Data/RawData/\"\n",
    "\n",
    "data = {}\n",
    "LGm = {}\n",
    "for lgm in os.listdir(data_path):\n",
    "    if lgm in [\"LGm-1\", \"LGm-2\", \"LGm-3\", \"LGm-4\", \"LGm-5\", \"LGm-6\"]:\n",
    "        sample_path = data_path + lgm + \"/\"\n",
    "        print(sample_path)\n",
    "        for sample in os.listdir(sample_path):\n",
    "                data[sample] = np.load(sample_path+sample)\n",
    "                LGm[sample] = int(lgm[-1])\n",
    "                print(sample, \":\", data[sample].shape)\n"
   ]
  },
  {
   "cell_type": "code",
   "execution_count": null,
   "id": "d83180f9-9526-4cec-ae11-42c30cde2f95",
   "metadata": {},
   "outputs": [],
   "source": [
    "## Train one pca-model for the entire dataset first\n",
    "\n",
    "# Get the fine-tuned ensemble model\n",
    "ensemble_model = make_ensemble()\n",
    "ensemble_model.load_weights(filepath = \"Models/ensembleModelRes.h5\")\n",
    "\n",
    "\n",
    "# Spectral data\n",
    "new_flat_data = np.empty((0, 1738))\n",
    "flat_data_RADAR = np.empty((0, 1738))\n",
    "\n",
    "# Labels for the spectra\n",
    "patient_id = np.empty((0))\n",
    "lgm_labels = np.empty((0))\n",
    "\n",
    "# Now we will re-load and store the data in lists, this makes loading the data easier\n",
    "for key in data.keys():\n",
    "\n",
    "    # Get the sample\n",
    "    sample = data[key]\n",
    "    shape = sample.shape\n",
    "\n",
    "    # Flatten\n",
    "    norm_data = sample.reshape((-1, 1738))\n",
    "\n",
    "    # Normalization\n",
    "    _min = np.expand_dims(np.min(norm_data, axis = 1), -1)\n",
    "    _max = np.expand_dims(np.max(norm_data, axis = 1), -1)\n",
    "    norm_data = (norm_data - _min) / (_max - _min)\n",
    "    \n",
    "    # Save the tumor spectra\n",
    "    new_flat_data = np.concatenate([new_flat_data, norm_data])\n",
    "    flat_data_RADAR = np.concatenate([flat_data_RADAR,\n",
    "                                      normalize(ensemble_model.predict(norm_data, batch_size = 256)[-1])])\n",
    "    patient_id = np.concatenate([patient_id, np.array([key for i in range(len(norm_data))])])\n",
    "    lgm_labels = np.concatenate([lgm_labels, np.array([LGm[key] for i in range(len(norm_data))])])\n"
   ]
  },
  {
   "cell_type": "code",
   "execution_count": null,
   "id": "7286b618-9398-4765-b096-3e54dcafe3d6",
   "metadata": {},
   "outputs": [],
   "source": [
    "# Save the data for other experiments\n",
    "np.save(\"Data/FlatData.npy\", new_flat_data)\n",
    "np.save(\"Data/FlatDataRADAR.npy\", flat_data_RADAR)\n",
    "np.save(\"Data/patient_id.npy\", patient_id)\n",
    "np.save(\"Data/lgm_labels.npy\", lgm_labels)"
   ]
  },
  {
   "cell_type": "code",
   "execution_count": null,
   "id": "dc2e5ebc-9e56-4871-8a6b-899ed3d7432d",
   "metadata": {},
   "outputs": [],
   "source": [
    "# For comparison, we also get the corrections from the Kazemzadeh et al. model\n",
    "\n",
    "cascade = tf.keras.models.load_model(\"Models/unet_three.23-64.96.h5\")\n",
    "\n",
    "new_flat_data = np.load(\"Data/FlatData.npy\")\n",
    "\n",
    "denoised_1 = np.squeeze(cascade.predict(np.expand_dims(new_flat_data[:, :1024], -1) * 1000,\n",
    "                                        batch_size = 256)[-1]/1000)\n",
    "np.save(\"Data/denoised1.npy\", denoised_1) # Saved in case of OOM exception while running\n",
    "\n",
    "denoised_2 = np.squeeze(cascade.predict(np.expand_dims(new_flat_data[:, -1024 :], -1) * 1000,\n",
    "                                        batch_size = 256)[-1]/1000)\n",
    "np.save(\"Data/denoised2.npy\", denoised_2)\n",
    "\n",
    "# Join the predictions in the middle\n",
    "denoised_1 = np.load(\"Data/denoised1.npy\") \n",
    "denoised = np.hstack((denoised_1, denoised_2[:, 1024 - (1738 - 1024):]))\n",
    "\n",
    "np.save(\"Data/FlatDataKAZEM.npy\", normalize(denoised))"
   ]
  },
  {
   "cell_type": "code",
   "execution_count": null,
   "id": "5635961c-b776-4517-af16-ff237fb6a928",
   "metadata": {},
   "outputs": [],
   "source": [
    "# Ad-hoc solution, manually prepare the data based on the peak locations\n",
    "new_flat_data = np.load(\"Data/FlatData.npy\")\n",
    "\n",
    "# Display peak-locations\n",
    "ranges = [[240, 350], [360, 410], [430, 610], [635, 655], [705, 745], [1175, 1260], [1370, 1400], [1430, 1550]]\n",
    "\n",
    "# Curated sample\n",
    "curated = np.zeros_like(new_flat_data)\n",
    "\n",
    "# Get the peaks\n",
    "for r in ranges:\n",
    "    peak = new_flat_data[:, r[0]: r[1] + 1]\n",
    "\n",
    "    \n",
    "    start = np.median(peak[:, 0:10], axis = 1)\n",
    "    end = np.median(peak[:, -10:], axis = 1)\n",
    "\n",
    "    # The baseline at peak location is a linear line between the medians of the left and right ends, estimated by the 10 first and last points\n",
    "    bl = np.linspace(start, end, r[1] - r[0] + 1, axis = -1)\n",
    "\n",
    "    # Remove the baseline\n",
    "    peak -= bl\n",
    "\n",
    "    # Insert the peak\n",
    "    curated[:, r[0]:r[1]+1] = peak\n",
    "\n",
    "# Clip all negative values to 0 and normalize the spectra\n",
    "curated = np.clip(curated, 0, 1)\n",
    "curated = normalize(curated)\n",
    "\n",
    "# Save the data\n",
    "np.save(\"Data/FlatDataMANUAL.npy\", normalize(curated))"
   ]
  }
 ],
 "metadata": {
  "kernelspec": {
   "display_name": "Python 3 (ipykernel)",
   "language": "python",
   "name": "python3"
  },
  "language_info": {
   "codemirror_mode": {
    "name": "ipython",
    "version": 3
   },
   "file_extension": ".py",
   "mimetype": "text/x-python",
   "name": "python",
   "nbconvert_exporter": "python",
   "pygments_lexer": "ipython3",
   "version": "3.9.18"
  }
 },
 "nbformat": 4,
 "nbformat_minor": 5
}
